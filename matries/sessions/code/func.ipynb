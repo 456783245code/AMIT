{
 "cells": [
  {
   "cell_type": "code",
   "execution_count": 20,
   "id": "f6a3d4b3",
   "metadata": {},
   "outputs": [],
   "source": [
    "def info_std(**name ):\n",
    "    \"\"\"\"\n",
    "    this func takes2 input(his name&age)\n",
    "    parm1:name\n",
    "    parm2:age\n",
    "    type_parm1:int\n",
    "    type_parm2:str\n",
    "    type_return:int,str\n",
    "    def_arg :last or all \n",
    "    * infint (varadic func)\n",
    "    ** key = value(kwargs)\n",
    "    \"\"\"\n",
    "    print(f\"my name is {name}\")"
   ]
  },
  {
   "cell_type": "code",
   "execution_count": 21,
   "id": "8d1aa14a",
   "metadata": {},
   "outputs": [
    {
     "name": "stdout",
     "output_type": "stream",
     "text": [
      "my name is {'shahy': 79, 'ahmed': 90, 'ali': 98}\n"
     ]
    }
   ],
   "source": [
    "info_std(shahy = 79,ahmed=90, ali=98)"
   ]
  },
  {
   "cell_type": "code",
   "execution_count": 31,
   "id": "7fbed4ae",
   "metadata": {},
   "outputs": [],
   "source": [
    "def sum_num(x):\n",
    "    return lambda x: x+10\n",
    "\n",
    "\n",
    "\n"
   ]
  },
  {
   "cell_type": "code",
   "execution_count": 32,
   "id": "b5442939",
   "metadata": {},
   "outputs": [
    {
     "data": {
      "text/plain": [
       "20"
      ]
     },
     "execution_count": 32,
     "metadata": {},
     "output_type": "execute_result"
    }
   ],
   "source": [
    "sum_n=sum_num(10)\n",
    "sum_n(10)"
   ]
  },
  {
   "cell_type": "code",
   "execution_count": 33,
   "id": "d65f3ec8",
   "metadata": {},
   "outputs": [],
   "source": [
    "sum_n =lambda x : x+10"
   ]
  },
  {
   "cell_type": "code",
   "execution_count": 34,
   "id": "c7d6f0e1",
   "metadata": {},
   "outputs": [
    {
     "data": {
      "text/plain": [
       "20"
      ]
     },
     "execution_count": 34,
     "metadata": {},
     "output_type": "execute_result"
    }
   ],
   "source": [
    "sum_n(10)"
   ]
  },
  {
   "cell_type": "code",
   "execution_count": 35,
   "id": "e19847a5",
   "metadata": {},
   "outputs": [
    {
     "data": {
      "text/plain": [
       "134"
      ]
     },
     "execution_count": 35,
     "metadata": {},
     "output_type": "execute_result"
    }
   ],
   "source": [
    "sum_1= lambda x,y : x+y\n",
    "sum_1(56,78)"
   ]
  },
  {
   "cell_type": "code",
   "execution_count": 36,
   "id": "3fd6139f",
   "metadata": {},
   "outputs": [],
   "source": [
    "def sum_2(x,y):\n",
    "    return x+y\n"
   ]
  },
  {
   "cell_type": "code",
   "execution_count": 37,
   "id": "676a8db2",
   "metadata": {},
   "outputs": [
    {
     "data": {
      "text/plain": [
       "156"
      ]
     },
     "execution_count": 37,
     "metadata": {},
     "output_type": "execute_result"
    }
   ],
   "source": [
    "sum_2(67,89)"
   ]
  },
  {
   "cell_type": "code",
   "execution_count": 38,
   "id": "5af5d512",
   "metadata": {},
   "outputs": [],
   "source": [
    "def r(value):\n",
    "    lambda x: value+x\n",
    "    return value+10"
   ]
  },
  {
   "cell_type": "code",
   "execution_count": 39,
   "id": "f9d22fe9",
   "metadata": {},
   "outputs": [],
   "source": [
    "def sum_n(n):\n",
    "    return lambda a:a*n"
   ]
  },
  {
   "cell_type": "code",
   "execution_count": 41,
   "id": "e1f8ff15",
   "metadata": {},
   "outputs": [],
   "source": [
    "func_1 =sum_n(11)"
   ]
  },
  {
   "cell_type": "code",
   "execution_count": 42,
   "id": "2bc3c63d",
   "metadata": {},
   "outputs": [
    {
     "data": {
      "text/plain": [
       "22"
      ]
     },
     "execution_count": 42,
     "metadata": {},
     "output_type": "execute_result"
    }
   ],
   "source": [
    "func_1(2)"
   ]
  },
  {
   "cell_type": "code",
   "execution_count": 48,
   "id": "d5699a12",
   "metadata": {},
   "outputs": [
    {
     "ename": "ZeroDivisionError",
     "evalue": "division by zero",
     "output_type": "error",
     "traceback": [
      "\u001b[31m---------------------------------------------------------------------------\u001b[39m",
      "\u001b[31mZeroDivisionError\u001b[39m                         Traceback (most recent call last)",
      "\u001b[36mCell\u001b[39m\u001b[36m \u001b[39m\u001b[32mIn[48]\u001b[39m\u001b[32m, line 2\u001b[39m\n\u001b[32m      1\u001b[39m x=\u001b[32m0\u001b[39m\n\u001b[32m----> \u001b[39m\u001b[32m2\u001b[39m \u001b[32;43m5\u001b[39;49m\u001b[43m/\u001b[49m\u001b[43mx\u001b[49m\n",
      "\u001b[31mZeroDivisionError\u001b[39m: division by zero"
     ]
    }
   ],
   "source": [
    "x=0\n",
    "5/x"
   ]
  },
  {
   "cell_type": "code",
   "execution_count": 49,
   "id": "3cb36de7",
   "metadata": {},
   "outputs": [
    {
     "name": "stdout",
     "output_type": "stream",
     "text": [
      "NOT ACCEPT\n"
     ]
    }
   ],
   "source": [
    "try :\n",
    "    5/0\n",
    "except:\n",
    "    print(\"NOT ACCEPT\")"
   ]
  },
  {
   "cell_type": "code",
   "execution_count": 50,
   "id": "c693e2ed",
   "metadata": {},
   "outputs": [],
   "source": [
    "try:\n",
    "    x=10\n",
    "    y=int(input(\"enter Ur value\"))\n",
    "    x/y\n",
    "except:\n",
    "    print(\"NOT ACCEPT\")"
   ]
  },
  {
   "cell_type": "code",
   "execution_count": 53,
   "id": "a158313d",
   "metadata": {},
   "outputs": [
    {
     "ename": "ZeroDivisionError",
     "evalue": "division by zero",
     "output_type": "error",
     "traceback": [
      "\u001b[31m---------------------------------------------------------------------------\u001b[39m",
      "\u001b[31mZeroDivisionError\u001b[39m                         Traceback (most recent call last)",
      "\u001b[36mCell\u001b[39m\u001b[36m \u001b[39m\u001b[32mIn[53]\u001b[39m\u001b[32m, line 4\u001b[39m\n\u001b[32m      2\u001b[39m a=\u001b[32m5\u001b[39m\n\u001b[32m      3\u001b[39m \u001b[38;5;28;01mtry\u001b[39;00m:\n\u001b[32m----> \u001b[39m\u001b[32m4\u001b[39m     \u001b[32;43m5\u001b[39;49m\u001b[43m/\u001b[49m\u001b[32;43m0\u001b[39;49m\n\u001b[32m      5\u001b[39m \u001b[38;5;28;01mexcept\u001b[39;00m \u001b[38;5;167;01mNameError\u001b[39;00m : \n\u001b[32m      6\u001b[39m     \u001b[38;5;28mprint\u001b[39m(\u001b[33m\"\u001b[39m\u001b[33maaaaaa\u001b[39m\u001b[33m\"\u001b[39m)\n",
      "\u001b[31mZeroDivisionError\u001b[39m: division by zero"
     ]
    }
   ],
   "source": [
    "y =10\n",
    "a=5\n",
    "try:\n",
    "    5/0\n",
    "except NameError : \n",
    "    print(\"aaaaaa\")\n",
    "    "
   ]
  },
  {
   "cell_type": "code",
   "execution_count": 62,
   "id": "bae64940",
   "metadata": {},
   "outputs": [],
   "source": [
    "import random\n",
    "\n",
    "n=random.random()\n"
   ]
  },
  {
   "cell_type": "code",
   "execution_count": 63,
   "id": "cb6e1bb2",
   "metadata": {},
   "outputs": [
    {
     "data": {
      "text/plain": [
       "0.002310184841376837"
      ]
     },
     "execution_count": 63,
     "metadata": {},
     "output_type": "execute_result"
    }
   ],
   "source": [
    "def calc_degree(n):\n",
    "    return n*n\n",
    "calc_degree(n)"
   ]
  },
  {
   "cell_type": "code",
   "execution_count": 66,
   "id": "69b3fddd",
   "metadata": {},
   "outputs": [
    {
     "data": {
      "text/plain": [
       "'ahmed'"
      ]
     },
     "execution_count": 66,
     "metadata": {},
     "output_type": "execute_result"
    }
   ],
   "source": [
    "list_1=[\"ali\",\"ahmed\"]\n",
    "random.choice(list_1)"
   ]
  },
  {
   "cell_type": "code",
   "execution_count": 65,
   "id": "479bae13",
   "metadata": {},
   "outputs": [],
   "source": [
    "import os"
   ]
  },
  {
   "cell_type": "code",
   "execution_count": 72,
   "id": "d6041ae6",
   "metadata": {},
   "outputs": [],
   "source": [
    "file=os.listdir(\"D:/AMIT/matries/sessions/code\")"
   ]
  },
  {
   "cell_type": "code",
   "execution_count": 73,
   "id": "52c3686c",
   "metadata": {},
   "outputs": [
    {
     "name": "stdout",
     "output_type": "stream",
     "text": [
      "['bbasic.ipynb', 'func.ipynb', 'test.text']\n"
     ]
    }
   ],
   "source": [
    "print(file)"
   ]
  },
  {
   "cell_type": "code",
   "execution_count": null,
   "id": "9ab7ce0a",
   "metadata": {},
   "outputs": [
    {
     "data": {
      "text/plain": [
       "'D:/AMIT/matries/sessions/code/tt.txt'"
      ]
     },
     "execution_count": 75,
     "metadata": {},
     "output_type": "execute_result"
    }
   ],
   "source": [
    "base_dir=(\"D:/AMIT/matries/sessions/code\")\n",
    "file_name=\"D:/AMIT/matries/sessions/code/tt.txt\"\n",
    "file_root_path=os.path.join(base_dir,file_name)\n",
    "file_root_path\n",
    "#os.remove(file_root_path)\n"
   ]
  },
  {
   "cell_type": "code",
   "execution_count": 76,
   "id": "eb326fa2",
   "metadata": {},
   "outputs": [],
   "source": [
    "import os"
   ]
  },
  {
   "cell_type": "code",
   "execution_count": null,
   "id": "70d24460",
   "metadata": {},
   "outputs": [
    {
     "name": "stdout",
     "output_type": "stream",
     "text": [
      "dir already exist D:/AMIT/matries/sessions/code\n"
     ]
    }
   ],
   "source": [
    "dir_1=(\"D:/AMIT/matries/sessions/code\")\n",
    "if not os.path.exists(dir_1):\n",
    "    os.makedirs(dir_1)\n",
    "else:\n",
    "    print(\"dir already exist\", dir_1)"
   ]
  },
  {
   "cell_type": "code",
   "execution_count": 80,
   "id": "cff2c6a5",
   "metadata": {},
   "outputs": [],
   "source": [
    "import os\n",
    "path=\"D:/AMIT/matries/sessions/code\"\n",
    "if not os.path.exists(path):\n",
    "    os.makedirs(path)\n",
    "for i in range(20):\n",
    "    inner_path=os.path.join(path,\"dir_\"+str(i))\n",
    "    if not os.path.exists(inner_path):\n",
    "        os.makedirs(inner_path)\n"
   ]
  },
  {
   "cell_type": "code",
   "execution_count": 92,
   "id": "18b1ef3e",
   "metadata": {},
   "outputs": [],
   "source": [
    "from math import factorial"
   ]
  },
  {
   "cell_type": "code",
   "execution_count": 93,
   "id": "3d7881b1",
   "metadata": {},
   "outputs": [
    {
     "data": {
      "text/plain": [
       "120"
      ]
     },
     "execution_count": 93,
     "metadata": {},
     "output_type": "execute_result"
    }
   ],
   "source": [
    "fact(5)"
   ]
  },
  {
   "cell_type": "code",
   "execution_count": 103,
   "id": "ed76f4e7",
   "metadata": {},
   "outputs": [
    {
     "name": "stdout",
     "output_type": "stream",
     "text": [
      "sguhftxxjk\n"
     ]
    }
   ],
   "source": [
    "import random\n",
    "\n",
    "def generate_password(length):\n",
    "    characters = \"dfghjknbvcxcvhjkliuytdsxcvhjkjhgf\"\n",
    "    password = \"\"\n",
    "    for _ in range(length):\n",
    "        password += random.choice(characters)\n",
    "    return password\n",
    "\n",
    "print(generate_password(10))\n",
    "\n"
   ]
  },
  {
   "cell_type": "code",
   "execution_count": 3,
   "id": "0ff0378c",
   "metadata": {},
   "outputs": [],
   "source": [
    "import os\n",
    "import random\n",
    "import shutil"
   ]
  },
  {
   "cell_type": "code",
   "execution_count": null,
   "id": "efda2c26",
   "metadata": {},
   "outputs": [
    {
     "name": "stdout",
     "output_type": "stream",
     "text": [
      "Total length folder before deletion 18\n",
      "Remaining files after deletion: 9\n"
     ]
    }
   ],
   "source": [
    "import os\n",
    "import random\n",
    "import shutil\n",
    "def manage_folder(path):\n",
    "    \"\"\"\n",
    "    Manage a folder by creating subfolders, deleting half of them randomly, and checking remining.\n",
    "\n",
    "    :param path: The path to the folder to manage.\n",
    "    :type path: str\n",
    "\n",
    "    :return: List of remaining folder names after deletion.\n",
    "    :rtype: list[str]\n",
    "    \"\"\"\n",
    "\n",
    "path=\"D:/AMIT/matries/sessions/code\"\n",
    "if not os.path.exists(path):\n",
    "    os.makedirs(path)\n",
    "for i in range(10):\n",
    "    inner_path=os.path.join(path,\"direction_\"+str(i))\n",
    "    if not os.path.exists(inner_path):\n",
    "        os.makedirs(inner_path)\n",
    "all_files=os.listdir(path)\n",
    "print(\"Total length folder before deletion\",len(all_files))\n",
    "random.shuffle(all_files)\n",
    "half=len(all_files)//2\n",
    "to_dele=all_files[:half]\n",
    "for files in to_dele:\n",
    "    full_path=os.path.join(path,files)\n",
    "    if os.path.isdir(full_path):\n",
    "            shutil.rmtree(full_path)\n",
    "    elif os.path.isfile(full_path):\n",
    "            os.remove(full_path)\n",
    "remaining_items = os.listdir(path)\n",
    "print(\"Remaining files after deletion:\", len(remaining_items))\n",
    "\n"
   ]
  },
  {
   "cell_type": "code",
   "execution_count": 19,
   "id": "e9753fa8",
   "metadata": {},
   "outputs": [
    {
     "name": "stdout",
     "output_type": "stream",
     "text": [
      "Multiplication table for 9:\n",
      "9\n",
      "18\n",
      "27\n",
      "36\n",
      "45\n",
      "54\n",
      "63\n",
      "72\n",
      "81\n",
      "90\n"
     ]
    }
   ],
   "source": [
    "def multi_num(num):\n",
    "    print(f\"Multiplication table for {num}:\")\n",
    "    for i in range(1,11):\n",
    "        result=num*i\n",
    "        print(result)\n",
    "number=int(input(\"enter the number\"))\n",
    "multi_num(number)\n",
    "\n",
    "\n"
   ]
  },
  {
   "cell_type": "code",
   "execution_count": 21,
   "id": "fdaeb4e2",
   "metadata": {},
   "outputs": [
    {
     "name": "stdout",
     "output_type": "stream",
     "text": [
      "(3,5)\n",
      "(5,7)\n",
      "(11,13)\n",
      "(17,19)\n",
      "(29,31)\n",
      "(41,43)\n",
      "(59,61)\n",
      "(71,73)\n",
      "(101,103)\n",
      "(107,109)\n",
      "(137,139)\n",
      "(149,151)\n",
      "(179,181)\n",
      "(191,193)\n",
      "(197,199)\n",
      "(227,229)\n",
      "(239,241)\n",
      "(269,271)\n",
      "(281,283)\n",
      "(311,313)\n",
      "(347,349)\n",
      "(419,421)\n",
      "(431,433)\n",
      "(461,463)\n",
      "(521,523)\n",
      "(569,571)\n",
      "(599,601)\n",
      "(617,619)\n",
      "(641,643)\n",
      "(659,661)\n",
      "(809,811)\n",
      "(821,823)\n",
      "(827,829)\n",
      "(857,859)\n",
      "(881,883)\n"
     ]
    }
   ],
   "source": [
    "def prime_num(num):\n",
    "    if num < 2 :\n",
    "        return False\n",
    "    for i in range(2,int(num**0.5)+1):\n",
    "        if num % i==0:\n",
    "            return False\n",
    "        \n",
    "    return True\n",
    "def find_twin_prime(limit):\n",
    "    for i in range(3,limit,2):\n",
    "        if prime_num(i) and prime_num(i+2):\n",
    "            print(f\"({i},{i+2})\")\n",
    "    \n",
    "find_twin_prime(1000)\n",
    "\n",
    "\n"
   ]
  },
  {
   "cell_type": "code",
   "execution_count": 22,
   "id": "0f60bb53",
   "metadata": {},
   "outputs": [
    {
     "name": "stdout",
     "output_type": "stream",
     "text": [
      "prime factorization of 56 are : [2, 2, 2, 7]\n"
     ]
    }
   ],
   "source": [
    "def prime_factorization(n):\n",
    "    factors=[]\n",
    "    i=2\n",
    "    while i*i<=n :\n",
    "        while n % i==0:\n",
    "            factors.append(i)\n",
    "            n//=i\n",
    "        i+=1\n",
    "    if n>1:\n",
    "        factors.append(n)\n",
    "    return factors\n",
    "\n",
    "num=int(input(\"enter a number\"))\n",
    "result=prime_factorization(num)\n",
    "print(f\"prime factorization of {num} are : {result}\")"
   ]
  },
  {
   "cell_type": "code",
   "execution_count": 28,
   "id": "580967fb",
   "metadata": {},
   "outputs": [
    {
     "name": "stdout",
     "output_type": "stream",
     "text": [
      "binary to decimal is : 1011\n"
     ]
    }
   ],
   "source": [
    "def decimal_to_bianry(n):\n",
    "    if n==0:\n",
    "        return 0\n",
    "    binary=\"\"\n",
    "    while n>0:\n",
    "        reminder=n%2\n",
    "        binary=str(reminder)+ binary\n",
    "        n=n // 2\n",
    "    return binary\n",
    "\n",
    "\n",
    "num= int(input(\"enter a num\"))\n",
    "result=decimal_to_bianry(num)\n",
    "print(f\"binary to decimal is : {result}\")"
   ]
  },
  {
   "cell_type": "code",
   "execution_count": 29,
   "id": "89a01576",
   "metadata": {},
   "outputs": [
    {
     "name": "stdout",
     "output_type": "stream",
     "text": [
      "Perfect numbers between 0 and 100:\n",
      "0\n",
      "6\n",
      "28\n"
     ]
    }
   ],
   "source": [
    "def is_perfect(n):\n",
    "    sum_divisors = 0\n",
    "    for i in range(1, n):\n",
    "        if n % i == 0:\n",
    "            sum_divisors += i\n",
    "    return sum_divisors == n\n",
    "\n",
    "def print_perfect_numbers(start, end):\n",
    "    print(f\"Perfect numbers between {start} and {end}:\")\n",
    "    for num in range(start, end + 1):\n",
    "        if is_perfect(num):\n",
    "            print(num)\n",
    "start = int(input(\"Enter start of range: \"))\n",
    "end = int(input(\"Enter end of range: \"))\n",
    "\n",
    "print_perfect_numbers(start, end)\n"
   ]
  }
 ],
 "metadata": {
  "kernelspec": {
   "display_name": "Python 3",
   "language": "python",
   "name": "python3"
  },
  "language_info": {
   "codemirror_mode": {
    "name": "ipython",
    "version": 3
   },
   "file_extension": ".py",
   "mimetype": "text/x-python",
   "name": "python",
   "nbconvert_exporter": "python",
   "pygments_lexer": "ipython3",
   "version": "3.12.9"
  }
 },
 "nbformat": 4,
 "nbformat_minor": 5
}

{
 "cells": [
  {
   "cell_type": "code",
   "execution_count": 46,
   "id": "898578f9",
   "metadata": {},
   "outputs": [],
   "source": [
    "class Student:\n",
    "    _id_student=1\n",
    "    def __init__(self,name):\n",
    "        self.name=name\n",
    "        self.Student_id=Student._id_student\n",
    "        Student._id_student+=1\n",
    "        self.grades={}\n",
    "        self.enrolled_courses=[]\n",
    "\n",
    "    def __str__(self):\n",
    "        return f\"std_id : {self.Student_id} , Name std : {self.name} , grade std is : {self.grades}\"\n",
    "\n",
    "    def __repr__(self):\n",
    "        return f\"std_id : {self.Student_id} , Name std : {self.name} , grade std is : {self.grades}, enroll{self.enrolled_courses}\"\n",
    "    \n",
    "    def add_grade(self,course_id,grade):\n",
    "        self.grades[course_id]=grade\n",
    "    \n",
    "    def enroll_in_course(self,course):\n",
    "        self.enrolled_courses.append(course)\n"
   ]
  },
  {
   "cell_type": "code",
   "execution_count": 47,
   "id": "6416ca35",
   "metadata": {},
   "outputs": [
    {
     "data": {
      "text/plain": [
       "'std_id : 1 , Name std : shahy , grade std is : {2: 45}'"
      ]
     },
     "execution_count": 47,
     "metadata": {},
     "output_type": "execute_result"
    }
   ],
   "source": [
    "s1 = Student(\"shahy\")\n",
    "s1.add_grade(2,45)\n",
    "s1.enroll_in_course(\"ds\")\n",
    "str(s1)"
   ]
  },
  {
   "cell_type": "code",
   "execution_count": 48,
   "id": "c2f94689",
   "metadata": {},
   "outputs": [
    {
     "data": {
      "text/plain": [
       "\"std_id : 1 , Name std : shahy , grade std is : {2: 45}, enroll['ds']\""
      ]
     },
     "execution_count": 48,
     "metadata": {},
     "output_type": "execute_result"
    }
   ],
   "source": [
    "repr(s1)"
   ]
  },
  {
   "cell_type": "code",
   "execution_count": 49,
   "id": "dd2ecbb1",
   "metadata": {},
   "outputs": [],
   "source": [
    "class course:\n",
    "    _id_counter = 1 \n",
    "\n",
    "    def __init__(self,name):\n",
    "        self.course_id=course._id_counter\n",
    "        course._id_counter+=1\n",
    "        self.name=name\n",
    "        self.enrolled_std=[]\n",
    "    def __str__(self):\n",
    "        return f\"course id : {self.course_id} , name {self.name}, enroll :{len(self.enrolled_std)}\"\n",
    "\n",
    "    def enrolled_st(self,student):\n",
    "        if student not in enrolled_st:\n",
    "            self.enrolled_std.append(student)\n",
    "            print(\"std enroll succ\")\n",
    "        else:\n",
    "            print(\"std already enroll\")\n",
    "    \n",
    "    def remove_std(self,student):\n",
    "        for course in self.Courses.values():\n",
    "            if student in course.enrolled_std:\n",
    "                course.enrolled_std.remove(student)"
   ]
  },
  {
   "cell_type": "code",
   "execution_count": 50,
   "id": "5476e6f9",
   "metadata": {},
   "outputs": [
    {
     "data": {
      "text/plain": [
       "'course id : 1 , name ds, enroll :0'"
      ]
     },
     "execution_count": 50,
     "metadata": {},
     "output_type": "execute_result"
    }
   ],
   "source": [
    "c1 = course(\"ds\")\n",
    "\n",
    "str(c1)"
   ]
  },
  {
   "cell_type": "code",
   "execution_count": 51,
   "id": "5a30d195",
   "metadata": {},
   "outputs": [],
   "source": [
    "class systemManager:\n",
    "    def __init__(self):\n",
    "        self.students={}\n",
    "        self.courses={}\n",
    "\n",
    "    def add_std(self,name):\n",
    "        student =Student(name)\n",
    "        self.students[student.Student_id]=student\n",
    "        print(\"std added succ\")\n",
    "        return student.Student_id\n",
    "    def remove_std(self,Student_id):\n",
    "        if Student_id in self.students:\n",
    "            student=self.students[Student_id]\n",
    "            if not student.enrolled_courses:\n",
    "                del self.students[Student_id]\n",
    "                print(\"student removed successfully\")\n",
    "            else:\n",
    "                print(\"student is already enrolled in the course\")\n",
    "                \n",
    "        else:\n",
    "            print(\"Invalid student or course ID\")\n",
    "\n",
    "    def enrolled_course(self, Student_id , course_id):\n",
    "        if Student_id in self.students and course_id in self.courses:\n",
    "            student = self.students[Student_id]\n",
    "            course  = self.courses[course_id]\n",
    "\n",
    "            if course.name not in student.enrolled_courses:\n",
    "                student.enroll_in_course(course.name)\n",
    "                course.enrolled_std(student.name)\n",
    "                print(\"student enrolled in courses successfully\")\n",
    "            else:\n",
    "                print(\"student is already enrolled in the course\")\n",
    "        else:\n",
    "            print(\"Invalid student or course ID\")\n",
    "    \n",
    "\n",
    "    def record_grade(self,Student_id , course_id , grade):\n",
    "        if Student_id in self.students and course_id in self.courses:\n",
    "            student = self.students[Student_id]\n",
    "            course  = self.courses[course_id]\n",
    "            student.add_grade(course.name,grade)\n",
    "            print(\"grade succ\")\n",
    "        else:\n",
    "            print(\"invalid\")\n",
    "\n",
    "\n",
    "    def get_all_std(self):\n",
    "        return list(self.student.values)\n",
    "    def get_all_cous(self):\n",
    "        return list(self.course.values)\n",
    "\n",
    "\n",
    "                \n",
    "\n",
    "            \n",
    "\n"
   ]
  }
 ],
 "metadata": {
  "kernelspec": {
   "display_name": "Python 3",
   "language": "python",
   "name": "python3"
  },
  "language_info": {
   "codemirror_mode": {
    "name": "ipython",
    "version": 3
   },
   "file_extension": ".py",
   "mimetype": "text/x-python",
   "name": "python",
   "nbconvert_exporter": "python",
   "pygments_lexer": "ipython3",
   "version": "3.12.9"
  }
 },
 "nbformat": 4,
 "nbformat_minor": 5
}
